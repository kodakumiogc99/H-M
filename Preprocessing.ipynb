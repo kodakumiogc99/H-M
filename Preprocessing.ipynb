{
 "cells": [
  {
   "cell_type": "code",
   "execution_count": null,
   "id": "38c8df3a",
   "metadata": {},
   "outputs": [],
   "source": [
    "import numpy as np\n",
    "import pandas as pd\n",
    "pd.set_option('display.max_rows', 200)\n",
    "pd.set_option('display.min_rows', 200)\n",
    "\n",
    "\n",
    "articles_data = pd.read_csv('./articles.csv', dtype={'article_id':str})\n",
    "article_drop_list = ['prod_name', 'product_type_name', 'product_group_name', 'graphical_appearance_name',\n",
    "                    'colour_group_name','perceived_colour_value_name','perceived_colour_master_name',\n",
    "                    'department_name','index_name', 'index_group_name', 'section_name', 'garment_group_name']\n",
    "articles_data = articles_data.drop(article_drop_list, axis=1)\n",
    "articles_data = articles_data.fillna(0)\n",
    "articles_data = articles_data.fillna('0')\n",
    "\n",
    "customers_data = pd.read_csv('./customers.csv', dtype={'customer_id':str})\n",
    "customers_data = customers_data.fillna(0)\n",
    "customers_data = customers_data.fillna('0')\n",
    "transactions_train = pd.read_csv('./transactions_train.csv',index_col=0)\n",
    "sample_submission = pd.read_csv('./sample_submission.csv')\n",
    "\n",
    "customer_id  = set(customers_data['customer_id'].unique().tolist())\n",
    "train_customer_id = set(transactions_train['customer_id'].unique().tolist())\n",
    "test_customer_id = set(sample_submission['customer_id'].unique().tolist())\n",
    "articles_feature = articles_data.columns.tolist()\n",
    "\n",
    "customers_feature = customers_data.columns.tolist()\n",
    "customers_feature.remove('customer_id')\n",
    "articles_feature.remove('article_id')\n",
    "articles_feature.remove('detail_desc')\n",
    "\n",
    "for f in customers_feature:\n",
    "    transactions_train[f] = transactions_train['customer_id'].map(customers_data.set_index('customer_id')[f])\n",
    "\n",
    "for f in articles_feature:\n",
    "    transactions_train[f] = transactions_train['article_id'].map(articles_data.set_index('article_id')[f])\n",
    "\n",
    "transactions_train.to_csv('./preprocessing.csv')"
   ]
  }
 ],
 "metadata": {
  "kernelspec": {
   "display_name": "Python 3 (ipykernel)",
   "language": "python",
   "name": "python3"
  },
  "language_info": {
   "codemirror_mode": {
    "name": "ipython",
    "version": 3
   },
   "file_extension": ".py",
   "mimetype": "text/x-python",
   "name": "python",
   "nbconvert_exporter": "python",
   "pygments_lexer": "ipython3",
   "version": "3.7.11"
  }
 },
 "nbformat": 4,
 "nbformat_minor": 5
}
